{
 "cells": [
  {
   "cell_type": "markdown",
   "id": "f0bf5cc5-5fd3-473b-af3b-480f5b0a3b01",
   "metadata": {},
   "source": [
    "## Load Data"
   ]
  },
  {
   "cell_type": "code",
   "execution_count": null,
   "id": "a8177da9-bfa4-4b70-9662-55eadca377c2",
   "metadata": {},
   "outputs": [],
   "source": [
    "import torch\n",
    "\n",
    "\n",
    "device = 'cuda' if torch.cuda.is_available() else 'cpu'"
   ]
  },
  {
   "cell_type": "code",
   "execution_count": null,
   "id": "c61e625d-7533-4d77-b7ef-825cf3db7563",
   "metadata": {
    "scrolled": true
   },
   "outputs": [],
   "source": [
    "import os\n",
    "from torchvision.transforms import v2\n",
    "from face_identifier.dataset import FaceDataset\n",
    "\n",
    "\n",
    "augmentation = v2.Compose([\n",
    "    v2.RandomHorizontalFlip(p=0.5),\n",
    "    v2.ColorJitter(brightness=.3, hue=.1),\n",
    "    v2.RandomPhotometricDistort(p=0.2),\n",
    "])\n",
    "\n",
    "\n",
    "# paths\n",
    "path = '/home/anthony/Documents/Homework Documents/Inno Lab Group Project/WFLW'\n",
    "path_images = os.path.join(path, 'WFLW_images')\n",
    "# path = '/home/anthony/Documents/Homework Documents/Inno Lab Group Project/Face Detection'\n",
    "# path_images = path\n",
    "training_set = FaceDataset(os.path.join(path, 'training.txt'), path_images, transform=augmentation)\n",
    "validation_set = FaceDataset(os.path.join(path, 'validation.txt'), path_images)\n",
    "test_set = FaceDataset(os.path.join(path, 'test.txt'), path_images)\n",
    "\n",
    "# check image\n",
    "for i in range(5):\n",
    "    training_set.draw(i)"
   ]
  },
  {
   "cell_type": "markdown",
   "id": "8825b222-3752-4635-912c-9a1bdeff6a91",
   "metadata": {},
   "source": [
    "## Build Model"
   ]
  },
  {
   "cell_type": "code",
   "execution_count": null,
   "id": "b34d244d-ec7f-4c76-b2bd-95fa18868024",
   "metadata": {},
   "outputs": [],
   "source": [
    "import torch\n",
    "from face_identifier.model import FaceDetector\n",
    "\n",
    "\n",
    "model = FaceDetector()\n",
    "optimizer = torch.optim.Adam(model.parameters(), lr=1e-3)\n",
    "loss_func = torch.nn.L1Loss()\n",
    "model"
   ]
  },
  {
   "cell_type": "markdown",
   "id": "407bdf18-6715-435e-8d76-bef7a1e11f7d",
   "metadata": {},
   "source": [
    "## Train Model"
   ]
  },
  {
   "cell_type": "code",
   "execution_count": null,
   "id": "bef85224-1f13-4130-a660-83ffa77b5a2f",
   "metadata": {},
   "outputs": [],
   "source": [
    "import os\n",
    "from face_identifier.processes import ModelTrainer, test\n",
    "\n",
    "save_path = 'face-detector.pt'\n",
    "if os.path.exists(save_path):\n",
    "    model.load_state_dict(torch.load(save_path))\n",
    "trainer = ModelTrainer(model, training_set, validation_set, optimizer, loss_func=loss_func, device=device, batch_size=64,\n",
    "                       save_path=save_path, log_name=\"Detect Loss\")\n",
    "trainer.train(10)"
   ]
  },
  {
   "cell_type": "code",
   "execution_count": null,
   "id": "61163647-8207-4b92-8bff-074adc70c43a",
   "metadata": {},
   "outputs": [],
   "source": [
    "trainer.train(50)"
   ]
  },
  {
   "cell_type": "code",
   "execution_count": null,
   "id": "0aab1e8f-53ca-44a3-97a4-e42115c45370",
   "metadata": {},
   "outputs": [],
   "source": [
    "print(f'Best training loss: {trainer.best_loss:.5f}')"
   ]
  },
  {
   "cell_type": "markdown",
   "id": "21c187ec-21e8-47cf-a3fd-78537f05c61f",
   "metadata": {},
   "source": [
    "## Test & Visualization"
   ]
  },
  {
   "cell_type": "code",
   "execution_count": null,
   "id": "de583672-7d2f-4ecc-b3a1-c32d5531f756",
   "metadata": {},
   "outputs": [],
   "source": [
    "# load the best model\n",
    "# torch.save(model.state_dict(), 'face-detector-last.pt')\n",
    "model.load_state_dict(torch.load('face-detector.pt'))"
   ]
  },
  {
   "cell_type": "code",
   "execution_count": null,
   "id": "1a3224da-8959-4ca0-bf6f-3287adb2b095",
   "metadata": {},
   "outputs": [],
   "source": [
    "from torch.utils.data import DataLoader\n",
    "from face_identifier.processes import test\n",
    "\n",
    "\n",
    "test_loader = DataLoader(test_set, batch_size=64)\n",
    "test_loss = test(model, test_loader, loss_func, device=device)\n",
    "print(f'Test loss: {test_loss:.5f}')"
   ]
  },
  {
   "cell_type": "code",
   "execution_count": null,
   "id": "4b0f2300-03d7-4c61-970a-948dc370c380",
   "metadata": {},
   "outputs": [],
   "source": [
    "with torch.no_grad():\n",
    "    model.to(\"cpu\")\n",
    "    model.eval()\n",
    "    for i in range(5, 10):\n",
    "        image, _, _ = test_set[i]\n",
    "        image = image.view(1, *image.shape)\n",
    "        prediction = model(image)[0]\n",
    "        ax = test_set.draw(i, prediction)\n",
    "        ax.set_title(f'Has Face: {prediction[0].item():.5f}')"
   ]
  },
  {
   "cell_type": "code",
   "execution_count": null,
   "id": "05fdbab2-0e09-45ae-983e-988732966246",
   "metadata": {},
   "outputs": [],
   "source": []
  }
 ],
 "metadata": {
  "kernelspec": {
   "display_name": "Python 3 (ipykernel)",
   "language": "python",
   "name": "python3"
  },
  "language_info": {
   "codemirror_mode": {
    "name": "ipython",
    "version": 3
   },
   "file_extension": ".py",
   "mimetype": "text/x-python",
   "name": "python",
   "nbconvert_exporter": "python",
   "pygments_lexer": "ipython3",
   "version": "3.11.8"
  }
 },
 "nbformat": 4,
 "nbformat_minor": 5
}
